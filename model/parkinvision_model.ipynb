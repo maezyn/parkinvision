{
 "cells": [
  {
   "cell_type": "markdown",
   "metadata": {},
   "source": [
    "# ParkinVision Models"
   ]
  },
  {
   "cell_type": "markdown",
   "metadata": {},
   "source": [
    "## Define Problem"
   ]
  },
  {
   "cell_type": "code",
   "execution_count": 1,
   "metadata": {},
   "outputs": [],
   "source": [
    "%matplotlib inline\n",
    "import numpy as np\n",
    "import pandas as pd\n",
    "import matplotlib.pyplot as plt\n",
    "import cv2\n",
    "import glob"
   ]
  },
  {
   "cell_type": "markdown",
   "metadata": {},
   "source": [
    "## Prepare Data"
   ]
  },
  {
   "cell_type": "code",
   "execution_count": 2,
   "metadata": {},
   "outputs": [],
   "source": [
    "train_healthy = [cv2.imread(file) for file in glob.glob(\"dataset/spiral/training/healthy/*.png\")]\n",
    "train_healthy_labels = [0 for _ in range(len(train_healthy))]\n",
    "train_parkinson = [cv2.imread(file) for file in glob.glob(\"dataset/spiral/training/parkinson/*.png\")]\n",
    "train_parkinson_labels = [1 for _ in range(len(train_parkinson))]\n",
    "test_healthy = [cv2.imread(file) for file in glob.glob(\"dataset/spiral/testing/healthy/*.png\")]\n",
    "test_healthy_labels = [0 for _ in range(len(test_healthy))]\n",
    "test_parkinson = [cv2.imread(file) for file in glob.glob(\"dataset/spiral/testing/parkinson/*.png\")]\n",
    "test_parkinson_labels = [1 for _ in range(len(test_parkinson))]\n",
    "\n",
    "train_images = train_healthy + train_parkinson\n",
    "test_images = test_healthy + test_parkinson\n",
    "train_labels = train_healthy_labels + train_parkinson_labels\n",
    "test_labels = test_healthy_labels + test_parkinson_labels"
   ]
  },
  {
   "cell_type": "code",
   "execution_count": 3,
   "metadata": {},
   "outputs": [],
   "source": [
    "from skimage.data import camera\n",
    "from skimage.filters import roberts, sobel, sobel_h, sobel_v, scharr, \\\n",
    "    scharr_h, scharr_v, prewitt, prewitt_v, prewitt_h\n",
    "\n",
    "def features_edge(image):\n",
    "    edge_roberts = roberts(image)\n",
    "    edge_sobel = sobel(image)\n",
    "    edge_scharr = scharr(image)\n",
    "    edge_prewitt = prewitt(image)\n",
    "\n",
    "    fig, ax = plt.subplots(ncols=4, sharex=True, sharey=True,\n",
    "                           figsize=(12, 10))\n",
    "\n",
    "    ax[0].imshow(edge_roberts, cmap=plt.cm.gray)\n",
    "    ax[0].set_title('Roberts Edge Detection')\n",
    "\n",
    "    ax[1].imshow(edge_sobel, cmap=plt.cm.gray)\n",
    "    ax[1].set_title('Sobel Edge Detection')\n",
    "\n",
    "    ax[2].imshow(edge_scharr, cmap=plt.cm.gray)\n",
    "    ax[2].set_title('Scharr Edge Detection')\n",
    "    \n",
    "    ax[3].imshow(edge_prewitt, cmap=plt.cm.gray)\n",
    "    ax[3].set_title('Prewitt Edge Detection')\n",
    "\n",
    "    for a in ax:\n",
    "        a.axis('off')\n",
    "\n",
    "    plt.tight_layout()\n",
    "    plt.show()\n",
    "    \n",
    "    return edge_roberts\n",
    "\n",
    "# Must call on 2D image\n",
    "#features_edge(grey)"
   ]
  },
  {
   "cell_type": "code",
   "execution_count": 4,
   "metadata": {},
   "outputs": [],
   "source": [
    "from skimage.feature import hog\n",
    "from skimage import data, exposure\n",
    "\n",
    "def plot_histogram(hog_image):\n",
    "    fig, (ax1, ax2) = plt.subplots(1, 2, figsize=(12, 10), sharex=True, sharey=True)\n",
    "\n",
    "    ax1.axis('off')\n",
    "    ax1.imshow(image, cmap=plt.cm.gray)\n",
    "    ax1.set_title('Input image')\n",
    "\n",
    "    # Rescale histogram for better display\n",
    "    hog_image_rescaled = exposure.rescale_intensity(hog_image, in_range=(0, 10))\n",
    "\n",
    "    ax2.axis('off')\n",
    "    ax2.imshow(hog_image_rescaled, cmap=plt.cm.gray)\n",
    "    ax2.set_title('Histogram of Oriented Gradients')\n",
    "    plt.show()\n",
    "    \n",
    "def features_hog(image):\n",
    "    features = hog(image, orientations=9,\n",
    "                pixels_per_cell=(10, 10), cells_per_block=(2, 2),\n",
    "                transform_sqrt=True, block_norm=\"L1\")\n",
    "\n",
    "    \n",
    "    return features"
   ]
  },
  {
   "cell_type": "code",
   "execution_count": 5,
   "metadata": {},
   "outputs": [],
   "source": [
    "# Convert OpenCV images to numpy arrays for training\n",
    "train_data = []\n",
    "\n",
    "for image in train_images:\n",
    "    image = cv2.cvtColor(image, cv2.COLOR_BGR2GRAY)\n",
    "    image = cv2.resize(image, (300, 300))\n",
    "    \n",
    "    features = features_hog(image)\n",
    "    train_data.append(features)\n",
    "\n",
    "(trainX, trainY) = (np.array(train_data), np.array(train_labels))"
   ]
  },
  {
   "cell_type": "code",
   "execution_count": 6,
   "metadata": {},
   "outputs": [
    {
     "name": "stdout",
     "output_type": "stream",
     "text": [
      "(72, 30276)\n",
      "(72,)\n",
      "(30, 30276)\n"
     ]
    }
   ],
   "source": [
    "test_data = []\n",
    "\n",
    "for image in test_images:\n",
    "    image = cv2.cvtColor(image, cv2.COLOR_BGR2GRAY)\n",
    "    image = cv2.resize(image, (300, 300))\n",
    "    \n",
    "    features = features_hog(image)\n",
    "    test_data.append(features)\n",
    "\n",
    "(testX, testY) = (np.array(test_data), np.array(test_labels))\n",
    "    \n",
    "print(trainX.shape)\n",
    "print(trainY.shape)\n",
    "print(testX.shape)"
   ]
  },
  {
   "cell_type": "markdown",
   "metadata": {},
   "source": [
    "## Evaluate Models"
   ]
  },
  {
   "cell_type": "code",
   "execution_count": 7,
   "metadata": {},
   "outputs": [
    {
     "name": "stdout",
     "output_type": "stream",
     "text": [
      "LR: 0.692857 (0.155839)\n",
      "LDA: 0.733929 (0.136569)\n",
      "KNN: 0.591071 (0.142063)\n",
      "RFC: 0.696429 (0.132673)\n",
      "CART: 0.610714 (0.135949)\n",
      "NB: 0.762500 (0.112387)\n",
      "SVM: 0.492857 (0.128571)\n"
     ]
    }
   ],
   "source": [
    "# TODO: Train Naive-Bayes, logistic regression, decision trees (random forest), SVM, maybe try DL with Keras\n",
    "# TODO: Select model that performs best on validation data\n",
    "from sklearn.model_selection import train_test_split\n",
    "from sklearn.model_selection import cross_val_score\n",
    "from sklearn.model_selection import StratifiedKFold\n",
    "from sklearn.metrics import classification_report\n",
    "from sklearn.metrics import confusion_matrix\n",
    "from sklearn.metrics import accuracy_score\n",
    "from sklearn.linear_model import LogisticRegression\n",
    "from sklearn.ensemble import RandomForestClassifier\n",
    "from sklearn.tree import DecisionTreeClassifier\n",
    "from sklearn.neighbors import KNeighborsClassifier\n",
    "from sklearn.discriminant_analysis import LinearDiscriminantAnalysis\n",
    "from sklearn.naive_bayes import GaussianNB\n",
    "from sklearn.svm import SVC\n",
    "\n",
    "models = []\n",
    "models.append(('LR', LogisticRegression(solver='liblinear', multi_class='ovr')))\n",
    "models.append(('LDA', LinearDiscriminantAnalysis()))\n",
    "models.append(('KNN', KNeighborsClassifier()))\n",
    "models.append(('RFC', RandomForestClassifier(n_estimators=100)))\n",
    "models.append(('CART', DecisionTreeClassifier()))\n",
    "models.append(('NB', GaussianNB()))\n",
    "models.append(('SVM', SVC(gamma='auto')))\n",
    "\n",
    "results = []\n",
    "names = []\n",
    "for name, model in models:\n",
    "    kfold = StratifiedKFold(n_splits=10, random_state=1, shuffle=True)\n",
    "    cv_results = cross_val_score(model, trainX, trainY, cv=kfold, scoring='accuracy')\n",
    "    results.append(cv_results)\n",
    "    names.append(name)\n",
    "    print('%s: %f (%f)' % (name, cv_results.mean(), cv_results.std()))"
   ]
  },
  {
   "cell_type": "code",
   "execution_count": 8,
   "metadata": {},
   "outputs": [],
   "source": [
    "# Make predictions on validation dataset\n",
    "model = RandomForestClassifier(n_estimators=250, max_depth=8)\n",
    "model.fit(trainX, trainY)\n",
    "predictions = model.predict(testX)"
   ]
  },
  {
   "cell_type": "code",
   "execution_count": 9,
   "metadata": {},
   "outputs": [
    {
     "name": "stdout",
     "output_type": "stream",
     "text": [
      "0.7666666666666667\n",
      "[[11  4]\n",
      " [ 3 12]]\n",
      "              precision    recall  f1-score   support\n",
      "\n",
      "           0       0.79      0.73      0.76        15\n",
      "           1       0.75      0.80      0.77        15\n",
      "\n",
      "    accuracy                           0.77        30\n",
      "   macro avg       0.77      0.77      0.77        30\n",
      "weighted avg       0.77      0.77      0.77        30\n",
      "\n"
     ]
    }
   ],
   "source": [
    "# Evaluate predictions\n",
    "print(accuracy_score(testY, predictions))\n",
    "print(confusion_matrix(testY, predictions))\n",
    "print(classification_report(testY, predictions))"
   ]
  },
  {
   "cell_type": "code",
   "execution_count": 10,
   "metadata": {},
   "outputs": [
    {
     "name": "stdout",
     "output_type": "stream",
     "text": [
      "Best predictions are: {'kernel': 'rbf', 'C': 1}\n"
     ]
    }
   ],
   "source": [
    "from sklearn.model_selection import GridSearchCV\n",
    "\n",
    "svc = SVC()\n",
    "parameters = {'kernel':('linear', 'rbf'), 'C':[1, 10]}\n",
    "\n",
    "clf = GridSearchCV(svc, parameters)\n",
    "clf.fit(trainX, trainY)\n",
    "    \n",
    "print(\"Best predictions are:\", clf.best_params_)"
   ]
  },
  {
   "cell_type": "code",
   "execution_count": 11,
   "metadata": {},
   "outputs": [
    {
     "name": "stdout",
     "output_type": "stream",
     "text": [
      "Best predictions are: {'n_estimators': 250, 'max_depth': None}\n"
     ]
    }
   ],
   "source": [
    "rfc = RandomForestClassifier()\n",
    "parameters = {\n",
    "    \"n_estimators\":[5,10,50,100,250],\n",
    "    \"max_depth\":[2,4,8,16,32,None]\n",
    "    \n",
    "}\n",
    "\n",
    "clf = GridSearchCV(rfc, parameters)\n",
    "clf.fit(trainX, trainY)\n",
    "    \n",
    "print(\"Best predictions are:\", clf.best_params_)"
   ]
  },
  {
   "cell_type": "markdown",
   "metadata": {},
   "source": [
    "## Keras - Convolutional Neural Network"
   ]
  },
  {
   "cell_type": "code",
   "execution_count": 12,
   "metadata": {},
   "outputs": [
    {
     "name": "stdout",
     "output_type": "stream",
     "text": [
      "(72, 300, 300, 1)\n",
      "(30, 300, 300, 1)\n"
     ]
    }
   ],
   "source": [
    "# Create and resize 2D training data\n",
    "a = []\n",
    "for image in train_images:\n",
    "    image = cv2.cvtColor(image, cv2.COLOR_BGR2GRAY)\n",
    "    image = cv2.resize(image, (300, 300))\n",
    "    a.append(image)\n",
    "\n",
    "train_X_2D = np.array(a)\n",
    "train_X_2D = train_X_2D.reshape(train_X_2D.shape[0], 300, 300, 1)\n",
    "print(train_X_2D.shape)\n",
    "\n",
    "a = []\n",
    "for image in test_images:\n",
    "    image = cv2.cvtColor(image, cv2.COLOR_BGR2GRAY)\n",
    "    image = cv2.resize(image, (300, 300))\n",
    "    a.append(image)\n",
    "    \n",
    "test_X_2D = np.array(a)\n",
    "test_X_2D = test_X_2D.reshape(test_X_2D.shape[0], 300, 300, 1)\n",
    "print(test_X_2D.shape)"
   ]
  },
  {
   "cell_type": "code",
   "execution_count": 17,
   "metadata": {},
   "outputs": [],
   "source": [
    "import keras\n",
    "from keras.models import Sequential\n",
    "from keras.layers import Dense, Dropout, Flatten\n",
    "from keras.layers import Conv2D, MaxPooling2D"
   ]
  },
  {
   "cell_type": "code",
   "execution_count": 22,
   "metadata": {},
   "outputs": [],
   "source": [
    "input_shape = (300, 300, 1)\n",
    "\n",
    "model = Sequential()\n",
    "\n",
    "model.add(Conv2D(32, kernel_size=(3, 3), activation='relu', input_shape=input_shape))\n",
    "model.add(Conv2D(64, (3, 3), activation='relu'))\n",
    "model.add(MaxPooling2D(pool_size=(2, 2)))\n",
    "model.add(Dropout(0.25))\n",
    "model.add(Flatten())\n",
    "model.add(Dense(128, activation='relu'))\n",
    "model.add(Dropout(0.5))\n",
    "model.add(Dense(2, activation='softmax'))\n",
    "\n",
    "model.compile(loss=keras.losses.categorical_crossentropy,\n",
    "              optimizer=keras.optimizers.Adadelta(),\n",
    "              metrics=['accuracy'])"
   ]
  },
  {
   "cell_type": "code",
   "execution_count": 23,
   "metadata": {},
   "outputs": [
    {
     "name": "stdout",
     "output_type": "stream",
     "text": [
      "Train on 72 samples, validate on 30 samples\n",
      "Epoch 1/10\n",
      "72/72 [==============================] - 38s 524ms/step - loss: 9865.7031 - accuracy: 0.5556 - val_loss: 1950.7533 - val_accuracy: 0.5000\n",
      "Epoch 2/10\n",
      "72/72 [==============================] - 30s 423ms/step - loss: 1529.9541 - accuracy: 0.4306 - val_loss: 151.3842 - val_accuracy: 0.5000\n",
      "Epoch 3/10\n",
      "72/72 [==============================] - 30s 421ms/step - loss: 131.0785 - accuracy: 0.5278 - val_loss: 87.1140 - val_accuracy: 0.5000\n",
      "Epoch 4/10\n",
      "72/72 [==============================] - 31s 432ms/step - loss: 32.0401 - accuracy: 0.5000 - val_loss: 1.8186 - val_accuracy: 0.5000\n",
      "Epoch 5/10\n",
      "72/72 [==============================] - 31s 431ms/step - loss: 29.2485 - accuracy: 0.6528 - val_loss: 1.9500 - val_accuracy: 0.6667\n",
      "Epoch 6/10\n",
      "72/72 [==============================] - 32s 441ms/step - loss: 1.4440 - accuracy: 0.7083 - val_loss: 0.6486 - val_accuracy: 0.6667\n",
      "Epoch 7/10\n",
      "72/72 [==============================] - 30s 418ms/step - loss: 0.4880 - accuracy: 0.8472 - val_loss: 0.8777 - val_accuracy: 0.7667\n",
      "Epoch 8/10\n",
      "72/72 [==============================] - 31s 427ms/step - loss: 0.1268 - accuracy: 0.9167 - val_loss: 0.8898 - val_accuracy: 0.7000\n",
      "Epoch 9/10\n",
      "72/72 [==============================] - 32s 446ms/step - loss: 0.3261 - accuracy: 0.8611 - val_loss: 0.7956 - val_accuracy: 0.6667\n",
      "Epoch 10/10\n",
      "72/72 [==============================] - 31s 430ms/step - loss: 0.2745 - accuracy: 0.8750 - val_loss: 0.7658 - val_accuracy: 0.6667\n"
     ]
    }
   ],
   "source": [
    "y_binary = keras.utils.to_categorical(trainY)\n",
    "y_test = keras.utils.to_categorical(testY)\n",
    "model.fit(train_X_2D, y_binary, epochs=10, validation_data=(test_X_2D, y_test))\n",
    "score = model.evaluate(test_X_2D, y_test, verbose=0)"
   ]
  },
  {
   "cell_type": "code",
   "execution_count": 24,
   "metadata": {},
   "outputs": [
    {
     "name": "stdout",
     "output_type": "stream",
     "text": [
      "[0.7657999396324158, 0.6666666865348816]\n"
     ]
    }
   ],
   "source": [
    "print(score)"
   ]
  },
  {
   "cell_type": "markdown",
   "metadata": {},
   "source": [
    "## Export Model"
   ]
  },
  {
   "cell_type": "code",
   "execution_count": 296,
   "metadata": {},
   "outputs": [
    {
     "data": {
      "text/plain": [
       "['model.pkl']"
      ]
     },
     "execution_count": 296,
     "metadata": {},
     "output_type": "execute_result"
    }
   ],
   "source": [
    "import joblib\n",
    "joblib.dump(model, \"model.pkl\")"
   ]
  }
 ],
 "metadata": {
  "kernelspec": {
   "display_name": "Python 3",
   "language": "python",
   "name": "python3"
  },
  "language_info": {
   "codemirror_mode": {
    "name": "ipython",
    "version": 3
   },
   "file_extension": ".py",
   "mimetype": "text/x-python",
   "name": "python",
   "nbconvert_exporter": "python",
   "pygments_lexer": "ipython3",
   "version": "3.5.3"
  }
 },
 "nbformat": 4,
 "nbformat_minor": 4
}
