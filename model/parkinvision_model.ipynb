{
 "cells": [
  {
   "cell_type": "markdown",
   "metadata": {},
   "source": [
    "# ParkinVision Models"
   ]
  },
  {
   "cell_type": "markdown",
   "metadata": {},
   "source": [
    "## Define Problem"
   ]
  },
  {
   "cell_type": "code",
   "execution_count": 11,
   "metadata": {},
   "outputs": [],
   "source": [
    "%matplotlib inline\n",
    "import numpy as np\n",
    "import pandas as pd\n",
    "import matplotlib.pyplot as plt\n",
    "import cv2\n",
    "import glob"
   ]
  },
  {
   "cell_type": "markdown",
   "metadata": {},
   "source": [
    "## Prepare Data"
   ]
  },
  {
   "cell_type": "code",
   "execution_count": 12,
   "metadata": {},
   "outputs": [],
   "source": [
    "train_healthy = [cv2.imread(file) for file in glob.glob(\"dataset/spiral/training/healthy/*.png\")]\n",
    "train_healthy_labels = [0 for _ in range(len(train_healthy))]\n",
    "train_parkinson = [cv2.imread(file) for file in glob.glob(\"dataset/spiral/training/parkinson/*.png\")]\n",
    "train_parkinson_labels = [1 for _ in range(len(train_parkinson))]\n",
    "test_healthy = [cv2.imread(file) for file in glob.glob(\"dataset/spiral/testing/healthy/*.png\")]\n",
    "test_healthy_labels = [0 for _ in range(len(test_healthy))]\n",
    "test_parkinson = [cv2.imread(file) for file in glob.glob(\"dataset/spiral/testing/parkinson/*.png\")]\n",
    "test_parkinson_labels = [1 for _ in range(len(test_parkinson))]\n",
    "\n",
    "train_images = train_healthy + train_parkinson\n",
    "test_images = test_healthy + test_parkinson\n",
    "train_labels = train_healthy_labels + train_parkinson_labels\n",
    "test_labels = test_healthy_labels + test_parkinson_labels"
   ]
  },
  {
   "cell_type": "code",
   "execution_count": 13,
   "metadata": {},
   "outputs": [],
   "source": [
    "from skimage.data import camera\n",
    "from skimage.filters import roberts, sobel, sobel_h, sobel_v, scharr, \\\n",
    "    scharr_h, scharr_v, prewitt, prewitt_v, prewitt_h\n",
    "\n",
    "def features_edge(image):\n",
    "    edge_roberts = roberts(image)\n",
    "    edge_sobel = sobel(image)\n",
    "    edge_scharr = scharr(image)\n",
    "    edge_prewitt = prewitt(image)\n",
    "\n",
    "    fig, ax = plt.subplots(ncols=4, sharex=True, sharey=True,\n",
    "                           figsize=(12, 10))\n",
    "\n",
    "    ax[0].imshow(edge_roberts, cmap=plt.cm.gray)\n",
    "    ax[0].set_title('Roberts Edge Detection')\n",
    "\n",
    "    ax[1].imshow(edge_sobel, cmap=plt.cm.gray)\n",
    "    ax[1].set_title('Sobel Edge Detection')\n",
    "\n",
    "    ax[2].imshow(edge_scharr, cmap=plt.cm.gray)\n",
    "    ax[2].set_title('Scharr Edge Detection')\n",
    "    \n",
    "    ax[3].imshow(edge_prewitt, cmap=plt.cm.gray)\n",
    "    ax[3].set_title('Prewitt Edge Detection')\n",
    "\n",
    "    for a in ax:\n",
    "        a.axis('off')\n",
    "\n",
    "    plt.tight_layout()\n",
    "    plt.show()\n",
    "    \n",
    "    return edge_roberts\n",
    "\n",
    "# Must call on 2D image\n",
    "#features_edge(grey)"
   ]
  },
  {
   "cell_type": "code",
   "execution_count": 14,
   "metadata": {},
   "outputs": [],
   "source": [
    "from skimage.feature import hog\n",
    "from skimage import data, exposure\n",
    "\n",
    "def plot_histogram(hog_image):\n",
    "    fig, (ax1, ax2) = plt.subplots(1, 2, figsize=(12, 10), sharex=True, sharey=True)\n",
    "\n",
    "    ax1.axis('off')\n",
    "    ax1.imshow(image, cmap=plt.cm.gray)\n",
    "    ax1.set_title('Input image')\n",
    "\n",
    "    # Rescale histogram for better display\n",
    "    hog_image_rescaled = exposure.rescale_intensity(hog_image, in_range=(0, 10))\n",
    "\n",
    "    ax2.axis('off')\n",
    "    ax2.imshow(hog_image_rescaled, cmap=plt.cm.gray)\n",
    "    ax2.set_title('Histogram of Oriented Gradients')\n",
    "    plt.show()\n",
    "    \n",
    "def features_hog(image):\n",
    "    features = hog(image, orientations=9,\n",
    "                pixels_per_cell=(10, 10), cells_per_block=(2, 2),\n",
    "                transform_sqrt=True, block_norm=\"L1\")\n",
    "\n",
    "    \n",
    "    return features"
   ]
  },
  {
   "cell_type": "code",
   "execution_count": 15,
   "metadata": {},
   "outputs": [],
   "source": [
    "# Convert OpenCV images to numpy arrays for training\n",
    "train_data = []\n",
    "\n",
    "for image in train_images:\n",
    "    image = cv2.cvtColor(image, cv2.COLOR_BGR2GRAY)\n",
    "    image = cv2.resize(image, (300, 300))\n",
    "    \n",
    "    features = features_hog(image)\n",
    "    train_data.append(features)\n",
    "\n",
    "(trainX, trainY) = (np.array(train_data), np.array(train_labels))"
   ]
  },
  {
   "cell_type": "code",
   "execution_count": 16,
   "metadata": {},
   "outputs": [
    {
     "name": "stdout",
     "output_type": "stream",
     "text": [
      "(0,)\n",
      "(0,)\n",
      "(0,)\n"
     ]
    }
   ],
   "source": [
    "test_data = []\n",
    "\n",
    "for image in test_images:\n",
    "    image = cv2.cvtColor(image, cv2.COLOR_BGR2GRAY)\n",
    "    image = cv2.resize(image, (300, 300))\n",
    "    \n",
    "    features = features_hog(image)\n",
    "    test_data.append(features)\n",
    "\n",
    "(testX, testY) = (np.array(test_data), np.array(test_labels))\n",
    "    \n",
    "print(trainX.shape)\n",
    "print(trainY.shape)\n",
    "print(testX.shape)"
   ]
  },
  {
   "cell_type": "markdown",
   "metadata": {},
   "source": [
    "## Evaluate Models"
   ]
  },
  {
   "cell_type": "code",
   "execution_count": 18,
   "metadata": {},
   "outputs": [
    {
     "name": "stdout",
     "output_type": "stream",
     "text": [
      "LR: 0.692857 (0.155839)\n",
      "LDA: 0.733929 (0.136569)\n",
      "KNN: 0.591071 (0.142063)\n",
      "RFC: 0.680357 (0.089089)\n",
      "CART: 0.608929 (0.169116)\n",
      "NB: 0.762500 (0.112387)\n",
      "SVM: 0.492857 (0.128571)\n"
     ]
    }
   ],
   "source": [
    "# TODO: Train Naive-Bayes, logistic regression, decision trees (random forest), SVM, maybe try DL with Keras\n",
    "# TODO: Select model that performs best on validation data\n",
    "from sklearn.model_selection import train_test_split\n",
    "from sklearn.model_selection import cross_val_score\n",
    "from sklearn.model_selection import StratifiedKFold\n",
    "from sklearn.metrics import classification_report\n",
    "from sklearn.metrics import confusion_matrix\n",
    "from sklearn.metrics import accuracy_score\n",
    "from sklearn.linear_model import LogisticRegression\n",
    "from sklearn.ensemble import RandomForestClassifier\n",
    "from sklearn.tree import DecisionTreeClassifier\n",
    "from sklearn.neighbors import KNeighborsClassifier\n",
    "from sklearn.discriminant_analysis import LinearDiscriminantAnalysis\n",
    "from sklearn.naive_bayes import GaussianNB\n",
    "from sklearn.svm import SVC\n",
    "\n",
    "models = []\n",
    "models.append(('LR', LogisticRegression(solver='liblinear', multi_class='ovr')))\n",
    "models.append(('LDA', LinearDiscriminantAnalysis()))\n",
    "models.append(('KNN', KNeighborsClassifier()))\n",
    "models.append(('RFC', RandomForestClassifier(n_estimators=100)))\n",
    "models.append(('CART', DecisionTreeClassifier()))\n",
    "models.append(('NB', GaussianNB()))\n",
    "models.append(('SVM', SVC(gamma='auto')))\n",
    "\n",
    "results = []\n",
    "names = []\n",
    "for name, model in models:\n",
    "    kfold = StratifiedKFold(n_splits=10, random_state=1, shuffle=True)\n",
    "    cv_results = cross_val_score(model, trainX, trainY, cv=kfold, scoring='accuracy')\n",
    "    results.append(cv_results)\n",
    "    names.append(name)\n",
    "    print('%s: %f (%f)' % (name, cv_results.mean(), cv_results.std()))"
   ]
  },
  {
   "cell_type": "code",
   "execution_count": 27,
   "metadata": {},
   "outputs": [],
   "source": [
    "# Make predictions on validation dataset\n",
    "model = RandomForestClassifier(n_estimators=250, max_depth=8)\n",
    "model.fit(trainX, trainY)\n",
    "predictions = model.predict(testX)"
   ]
  },
  {
   "cell_type": "code",
   "execution_count": 28,
   "metadata": {},
   "outputs": [
    {
     "name": "stdout",
     "output_type": "stream",
     "text": [
      "0.8\n",
      "[[12  3]\n",
      " [ 3 12]]\n",
      "              precision    recall  f1-score   support\n",
      "\n",
      "           0       0.80      0.80      0.80        15\n",
      "           1       0.80      0.80      0.80        15\n",
      "\n",
      "    accuracy                           0.80        30\n",
      "   macro avg       0.80      0.80      0.80        30\n",
      "weighted avg       0.80      0.80      0.80        30\n",
      "\n"
     ]
    }
   ],
   "source": [
    "# Evaluate predictions\n",
    "print(accuracy_score(testY, predictions))\n",
    "print(confusion_matrix(testY, predictions))\n",
    "print(classification_report(testY, predictions))"
   ]
  },
  {
   "cell_type": "code",
   "execution_count": null,
   "metadata": {},
   "outputs": [],
   "source": [
    "from sklearn.model_selection import GridSearchCV\n",
    "\n",
    "svc = SVC()\n",
    "parameters = {'kernel':('linear', 'rbf'), 'C':[1, 10]}\n",
    "\n",
    "clf = GridSearchCV(svc, parameters)\n",
    "clf.fit(trainX, trainY)\n",
    "    \n",
    "print(\"Best predictions are:\", clf.best_params_)"
   ]
  },
  {
   "cell_type": "code",
   "execution_count": null,
   "metadata": {},
   "outputs": [],
   "source": [
    "rfc = RandomForestClassifier()\n",
    "parameters = {\n",
    "    \"n_estimators\":[5,10,50,100,250],\n",
    "    \"max_depth\":[2,4,8,16,32,None]\n",
    "    \n",
    "}\n",
    "\n",
    "clf = GridSearchCV(rfc, parameters)\n",
    "clf.fit(trainX, trainY)\n",
    "    \n",
    "print(\"Best predictions are:\", clf.best_params_)"
   ]
  },
  {
   "cell_type": "code",
   "execution_count": 19,
   "metadata": {},
   "outputs": [],
   "source": [
    "from keras.models import Sequential\n",
    "from keras.layers import Dense, Dropout, Flatten\n",
    "from keras.layers import Conv2D, MaxPooling2D"
   ]
  },
  {
   "cell_type": "code",
   "execution_count": 22,
   "metadata": {},
   "outputs": [
    {
     "ename": "NameError",
     "evalue": "name 'keras' is not defined",
     "output_type": "error",
     "traceback": [
      "\u001b[1;31m---------------------------------------------------------------------------\u001b[0m",
      "\u001b[1;31mNameError\u001b[0m                                 Traceback (most recent call last)",
      "\u001b[1;32m<ipython-input-22-8bb0389c65f8>\u001b[0m in \u001b[0;36m<module>\u001b[1;34m\u001b[0m\n\u001b[0;32m      8\u001b[0m \u001b[0mmodel\u001b[0m\u001b[1;33m.\u001b[0m\u001b[0madd\u001b[0m\u001b[1;33m(\u001b[0m\u001b[0mDense\u001b[0m\u001b[1;33m(\u001b[0m\u001b[1;36m2\u001b[0m\u001b[1;33m,\u001b[0m \u001b[0mactivation\u001b[0m\u001b[1;33m=\u001b[0m\u001b[1;34m'softmax'\u001b[0m\u001b[1;33m)\u001b[0m\u001b[1;33m)\u001b[0m\u001b[1;33m\u001b[0m\u001b[1;33m\u001b[0m\u001b[0m\n\u001b[0;32m      9\u001b[0m \u001b[1;33m\u001b[0m\u001b[0m\n\u001b[1;32m---> 10\u001b[1;33m model.compile(loss=keras.losses.categorical_crossentropy,\n\u001b[0m\u001b[0;32m     11\u001b[0m               \u001b[0moptimizer\u001b[0m\u001b[1;33m=\u001b[0m\u001b[0mkeras\u001b[0m\u001b[1;33m.\u001b[0m\u001b[0moptimizers\u001b[0m\u001b[1;33m.\u001b[0m\u001b[0mAdadelta\u001b[0m\u001b[1;33m(\u001b[0m\u001b[1;33m)\u001b[0m\u001b[1;33m,\u001b[0m\u001b[1;33m\u001b[0m\u001b[1;33m\u001b[0m\u001b[0m\n\u001b[0;32m     12\u001b[0m               metrics=['accuracy'])\n",
      "\u001b[1;31mNameError\u001b[0m: name 'keras' is not defined"
     ]
    }
   ],
   "source": [
    "input_shape = (300, 300, 1)\n",
    "\n",
    "model = Sequential()\n",
    "\n",
    "model.add(Conv2D(32, kernel_size=(3, 3), activation='relu', input_shape=input_shape))\n",
    "model.add(Conv2D(64, (3, 3), activation='relu'))\n",
    "model.add(Flatten())\n",
    "model.add(Dense(2, activation='softmax'))\n",
    "\n",
    "model.compile(loss=keras.losses.categorical_crossentropy,\n",
    "              optimizer=keras.optimizers.Adadelta(),\n",
    "              metrics=['accuracy'])"
   ]
  },
  {
   "cell_type": "markdown",
   "metadata": {},
   "source": [
    "## Export Model"
   ]
  },
  {
   "cell_type": "code",
   "execution_count": 296,
   "metadata": {},
   "outputs": [
    {
     "data": {
      "text/plain": [
       "['model.pkl']"
      ]
     },
     "execution_count": 296,
     "metadata": {},
     "output_type": "execute_result"
    }
   ],
   "source": [
    "import joblib\n",
    "joblib.dump(model, \"model.pkl\")"
   ]
  }
 ],
 "metadata": {
  "kernelspec": {
   "display_name": "Python 3",
   "language": "python",
   "name": "python3"
  },
  "language_info": {
   "codemirror_mode": {
    "name": "ipython",
    "version": 3
   },
   "file_extension": ".py",
   "mimetype": "text/x-python",
   "name": "python",
   "nbconvert_exporter": "python",
   "pygments_lexer": "ipython3",
   "version": "3.7.3"
  }
 },
 "nbformat": 4,
 "nbformat_minor": 4
}
