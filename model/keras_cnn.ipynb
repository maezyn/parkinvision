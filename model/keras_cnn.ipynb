{
 "cells": [
  {
   "cell_type": "markdown",
   "metadata": {},
   "source": [
    "# Tensorflow 2.0 / Keras CNN Model\n",
    "\n",
    "Simple CNN was attempted, but not enough data is available to yield good performance. Transfer or one-shot learning could be applied to tackle the lack of data but it is unecessary as the machine learning approach outperforms the deep learning approach. The scikit-learn and OpenCV approach was ultimately used in the final model."
   ]
  },
  {
   "cell_type": "code",
   "execution_count": 1,
   "metadata": {},
   "outputs": [],
   "source": [
    "import numpy as np\n",
    "import pandas as pd\n",
    "from tensorflow import losses, optimizers\n",
    "from tensorflow.keras import Input, Model, models, layers\n",
    "from tensorflow.keras.preprocessing.image import ImageDataGenerator\n",
    "import matplotlib.pyplot as plt\n",
    "%matplotlib inline"
   ]
  },
  {
   "cell_type": "code",
   "execution_count": 2,
   "metadata": {},
   "outputs": [],
   "source": [
    "# --- Define kwargs\n",
    "kwargs = {\n",
    "    'kernel_size': (3, 3),\n",
    "    'padding': 'same',}\n",
    "\n",
    "# --- Define lambda functions\n",
    "conv = lambda x, filters, strides : layers.Conv2D(filters=filters, strides=strides, **kwargs)(x)\n",
    "norm = lambda x : layers.BatchNormalization()(x)\n",
    "relu = lambda x : layers.LeakyReLU()(x)\n",
    "\n",
    "# --- Define stride-1, stride-2 blocks\n",
    "conv1 = lambda filters, x : norm(relu(conv(x, filters, strides=1)))\n",
    "conv2 = lambda filters, x : norm(relu(conv(x, filters, strides=(2, 2))))"
   ]
  },
  {
   "cell_type": "code",
   "execution_count": 3,
   "metadata": {},
   "outputs": [
    {
     "name": "stdout",
     "output_type": "stream",
     "text": [
      "Found 72 images belonging to 2 classes.\n",
      "Found 30 images belonging to 2 classes.\n"
     ]
    }
   ],
   "source": [
    "train_data_dir = 'dataset/spiral/training'\n",
    "validation_data_dir = 'dataset/spiral/testing'\n",
    "img_width = 300\n",
    "img_height = 300\n",
    "batch_size = 10\n",
    "\n",
    "train_datagen = ImageDataGenerator(\n",
    "    rescale=1./255,\n",
    "    rotation_range=40,\n",
    "    width_shift_range=0.2,\n",
    "    height_shift_range=0.2,\n",
    "    shear_range=0.2,\n",
    "    zoom_range=0.2,\n",
    "    horizontal_flip=True,\n",
    "    fill_mode='nearest')\n",
    "\n",
    "test_datagen = ImageDataGenerator(rescale=1./255)\n",
    "\n",
    "train_generator = train_datagen.flow_from_directory(\n",
    "    train_data_dir,\n",
    "    target_size=(img_width, img_height),\n",
    "    batch_size=12,\n",
    "    class_mode='binary',\n",
    "    color_mode='grayscale',\n",
    "    shuffle=True)\n",
    "\n",
    "validation_generator = test_datagen.flow_from_directory(\n",
    "    validation_data_dir,\n",
    "    target_size=(img_width, img_height),\n",
    "    batch_size=5,\n",
    "    class_mode='binary',\n",
    "    color_mode='grayscale',)"
   ]
  },
  {
   "cell_type": "code",
   "execution_count": 21,
   "metadata": {},
   "outputs": [],
   "source": [
    "# --- Define the model\n",
    "inputs = Input(shape=(img_width, img_height, 1))\n",
    "\n",
    "l1 = conv1(16, inputs)\n",
    "l2 = conv1(32, conv2(32, l1))\n",
    "l3 = conv1(64, conv2(64, l2))\n",
    "f0 = layers.Flatten()(l3)\n",
    "d0 = layers.Dropout(rate=0.2)(f0)\n",
    "f1 = layers.Dense(128, activation='relu')(d0)\n",
    "d1 = layers.Dropout(rate=0.2)(f1)\n",
    "f2 = layers.Dense(1, activation='sigmoid')(d1)\n",
    "\n",
    "# --- Create model\n",
    "model = Model(inputs=inputs, outputs=f2)"
   ]
  },
  {
   "cell_type": "code",
   "execution_count": 22,
   "metadata": {},
   "outputs": [
    {
     "name": "stdout",
     "output_type": "stream",
     "text": [
      "Model: \"model_4\"\n",
      "_________________________________________________________________\n",
      "Layer (type)                 Output Shape              Param #   \n",
      "=================================================================\n",
      "input_6 (InputLayer)         [(None, 300, 300, 1)]     0         \n",
      "_________________________________________________________________\n",
      "conv2d_25 (Conv2D)           (None, 300, 300, 16)      160       \n",
      "_________________________________________________________________\n",
      "leaky_re_lu_25 (LeakyReLU)   (None, 300, 300, 16)      0         \n",
      "_________________________________________________________________\n",
      "batch_normalization_25 (Batc (None, 300, 300, 16)      64        \n",
      "_________________________________________________________________\n",
      "conv2d_26 (Conv2D)           (None, 150, 150, 32)      4640      \n",
      "_________________________________________________________________\n",
      "leaky_re_lu_26 (LeakyReLU)   (None, 150, 150, 32)      0         \n",
      "_________________________________________________________________\n",
      "batch_normalization_26 (Batc (None, 150, 150, 32)      128       \n",
      "_________________________________________________________________\n",
      "conv2d_27 (Conv2D)           (None, 150, 150, 32)      9248      \n",
      "_________________________________________________________________\n",
      "leaky_re_lu_27 (LeakyReLU)   (None, 150, 150, 32)      0         \n",
      "_________________________________________________________________\n",
      "batch_normalization_27 (Batc (None, 150, 150, 32)      128       \n",
      "_________________________________________________________________\n",
      "conv2d_28 (Conv2D)           (None, 75, 75, 64)        18496     \n",
      "_________________________________________________________________\n",
      "leaky_re_lu_28 (LeakyReLU)   (None, 75, 75, 64)        0         \n",
      "_________________________________________________________________\n",
      "batch_normalization_28 (Batc (None, 75, 75, 64)        256       \n",
      "_________________________________________________________________\n",
      "conv2d_29 (Conv2D)           (None, 75, 75, 64)        36928     \n",
      "_________________________________________________________________\n",
      "leaky_re_lu_29 (LeakyReLU)   (None, 75, 75, 64)        0         \n",
      "_________________________________________________________________\n",
      "batch_normalization_29 (Batc (None, 75, 75, 64)        256       \n",
      "_________________________________________________________________\n",
      "flatten_5 (Flatten)          (None, 360000)            0         \n",
      "_________________________________________________________________\n",
      "dropout_2 (Dropout)          (None, 360000)            0         \n",
      "_________________________________________________________________\n",
      "dense_9 (Dense)              (None, 128)               46080128  \n",
      "_________________________________________________________________\n",
      "dropout_3 (Dropout)          (None, 128)               0         \n",
      "_________________________________________________________________\n",
      "dense_10 (Dense)             (None, 1)                 129       \n",
      "=================================================================\n",
      "Total params: 46,150,561\n",
      "Trainable params: 46,150,145\n",
      "Non-trainable params: 416\n",
      "_________________________________________________________________\n"
     ]
    }
   ],
   "source": [
    "model.summary()"
   ]
  },
  {
   "cell_type": "code",
   "execution_count": 23,
   "metadata": {},
   "outputs": [],
   "source": [
    "# --- Compile model\n",
    "model.compile(\n",
    "    optimizer=optimizers.RMSprop(lr=1e-4),\n",
    "    loss=losses.BinaryCrossentropy(),\n",
    "    metrics=['accuracy'])"
   ]
  },
  {
   "cell_type": "code",
   "execution_count": 24,
   "metadata": {},
   "outputs": [
    {
     "name": "stdout",
     "output_type": "stream",
     "text": [
      "WARNING:tensorflow:sample_weight modes were coerced from\n",
      "  ...\n",
      "    to  \n",
      "  ['...']\n",
      "WARNING:tensorflow:sample_weight modes were coerced from\n",
      "  ...\n",
      "    to  \n",
      "  ['...']\n",
      "Train for 6 steps, validate for 6 steps\n",
      "Epoch 1/20\n",
      "6/6 [==============================] - 16s 3s/step - loss: 6.4773 - accuracy: 0.5694 - val_loss: 0.6975 - val_accuracy: 0.5000\n",
      "Epoch 2/20\n",
      "6/6 [==============================] - 14s 2s/step - loss: 3.1618 - accuracy: 0.4861 - val_loss: 0.7089 - val_accuracy: 0.5000\n",
      "Epoch 3/20\n",
      "6/6 [==============================] - 14s 2s/step - loss: 1.7648 - accuracy: 0.4861 - val_loss: 0.7087 - val_accuracy: 0.5000\n",
      "Epoch 4/20\n",
      "6/6 [==============================] - 14s 2s/step - loss: 1.7960 - accuracy: 0.4583 - val_loss: 0.6927 - val_accuracy: 0.4667\n",
      "Epoch 5/20\n",
      "6/6 [==============================] - 14s 2s/step - loss: 1.1882 - accuracy: 0.5556 - val_loss: 0.6946 - val_accuracy: 0.5000\n",
      "Epoch 6/20\n",
      "6/6 [==============================] - 14s 2s/step - loss: 1.3688 - accuracy: 0.5278 - val_loss: 0.7521 - val_accuracy: 0.5000\n",
      "Epoch 7/20\n",
      "6/6 [==============================] - 14s 2s/step - loss: 1.0676 - accuracy: 0.5556 - val_loss: 0.7615 - val_accuracy: 0.5000\n",
      "Epoch 8/20\n",
      "6/6 [==============================] - 14s 2s/step - loss: 0.8437 - accuracy: 0.5278 - val_loss: 0.7934 - val_accuracy: 0.5000\n",
      "Epoch 9/20\n",
      "6/6 [==============================] - 14s 2s/step - loss: 0.8250 - accuracy: 0.6111 - val_loss: 0.7563 - val_accuracy: 0.5000\n",
      "Epoch 10/20\n",
      "6/6 [==============================] - 14s 2s/step - loss: 0.9525 - accuracy: 0.5278 - val_loss: 0.7831 - val_accuracy: 0.5000\n",
      "Epoch 11/20\n",
      "6/6 [==============================] - 14s 2s/step - loss: 0.8474 - accuracy: 0.5556 - val_loss: 0.8185 - val_accuracy: 0.5000\n",
      "Epoch 12/20\n",
      "6/6 [==============================] - 14s 2s/step - loss: 0.7750 - accuracy: 0.4861 - val_loss: 0.7514 - val_accuracy: 0.5000\n",
      "Epoch 13/20\n",
      "6/6 [==============================] - 14s 2s/step - loss: 0.7590 - accuracy: 0.5417 - val_loss: 0.7632 - val_accuracy: 0.5000\n",
      "Epoch 14/20\n",
      "6/6 [==============================] - 14s 2s/step - loss: 0.6935 - accuracy: 0.5694 - val_loss: 0.7951 - val_accuracy: 0.5000\n",
      "Epoch 15/20\n",
      "6/6 [==============================] - 14s 2s/step - loss: 0.7393 - accuracy: 0.5556 - val_loss: 0.9222 - val_accuracy: 0.5000\n",
      "Epoch 16/20\n",
      "6/6 [==============================] - 14s 2s/step - loss: 0.6896 - accuracy: 0.5972 - val_loss: 0.9507 - val_accuracy: 0.5000\n",
      "Epoch 17/20\n",
      "6/6 [==============================] - 14s 2s/step - loss: 0.7265 - accuracy: 0.5278 - val_loss: 1.0942 - val_accuracy: 0.5000\n",
      "Epoch 18/20\n",
      "6/6 [==============================] - 14s 2s/step - loss: 0.7354 - accuracy: 0.5000 - val_loss: 1.2992 - val_accuracy: 0.5000\n",
      "Epoch 19/20\n",
      "6/6 [==============================] - 14s 2s/step - loss: 0.7223 - accuracy: 0.5694 - val_loss: 1.2008 - val_accuracy: 0.5000\n",
      "Epoch 20/20\n",
      "6/6 [==============================] - 14s 2s/step - loss: 0.6970 - accuracy: 0.4722 - val_loss: 1.1551 - val_accuracy: 0.5000\n"
     ]
    }
   ],
   "source": [
    "history = model.fit(\n",
    "    x=train_generator,\n",
    "    steps_per_epoch=6,\n",
    "    epochs=20,\n",
    "    validation_data=validation_generator,\n",
    "    validation_steps=6\n",
    ")"
   ]
  },
  {
   "cell_type": "code",
   "execution_count": 25,
   "metadata": {},
   "outputs": [
    {
     "data": {
      "image/png": "[encoded data removed]",
      "text/plain": [
       "<Figure size 432x288 with 1 Axes>"
      ]
     },
     "metadata": {
      "needs_background": "light"
     },
     "output_type": "display_data"
    },
    {
     "data": {
      "image/png": "[encoded data removed]",
      "text/plain": [
       "<Figure size 432x288 with 1 Axes>"
      ]
     },
     "metadata": {
      "needs_background": "light"
     },
     "output_type": "display_data"
    }
   ],
   "source": [
    "acc = history.history['accuracy']\n",
    "val_acc = history.history['val_accuracy']\n",
    "loss = history.history['loss']\n",
    "val_loss = history.history['val_loss']\n",
    "\n",
    "epochs = range(len(acc))\n",
    "\n",
    "plt.plot(epochs, acc, 'r', label='Training accuracy')\n",
    "plt.plot(epochs, val_acc, 'b', label='Validation accuracy')\n",
    "plt.title('Training and validation accuracy')\n",
    "\n",
    "plt.figure()\n",
    "\n",
    "plt.plot(epochs, loss, 'r', label='Training Loss')\n",
    "plt.plot(epochs, val_loss, 'b', label='Validation Loss')\n",
    "plt.title('Training and validation loss')\n",
    "plt.legend()\n",
    "\n",
    "plt.show()"
   ]
  }
 ],
 "metadata": {
  "kernelspec": {
   "display_name": "Python 3",
   "language": "python",
   "name": "python3"
  },
  "language_info": {
   "codemirror_mode": {
    "name": "ipython",
    "version": 3
   },
   "file_extension": ".py",
   "mimetype": "text/x-python",
   "name": "python",
   "nbconvert_exporter": "python",
   "pygments_lexer": "ipython3",
   "version": "3.5.3"
  }
 },
 "nbformat": 4,
 "nbformat_minor": 4
}
